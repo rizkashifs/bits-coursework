{
 "cells": [
  {
   "cell_type": "code",
   "execution_count": null,
   "id": "9e8c23db",
   "metadata": {},
   "outputs": [],
   "source": [
    "#!pip install kafka-python "
   ]
  },
  {
   "cell_type": "code",
   "execution_count": null,
   "id": "56669be4",
   "metadata": {},
   "outputs": [],
   "source": [
    "# importing the required libraries  \n",
    "from time import sleep  \n",
    "from json import dumps  \n",
    "from kafka import KafkaProducer \n",
    "\n",
    "# initializing the Kafka producer  \n",
    "my_producer = KafkaProducer(  \n",
    "    bootstrap_servers = ['localhost:9092'],  \n",
    "    value_serializer = lambda x:dumps(x).encode('utf-8')  \n",
    "    )  \n",
    "    \n",
    "# generating the numbers ranging from 1 to 500  \n",
    "for n in range(500):  \n",
    "    my_data = {'num' : n}  \n",
    "    print(my_data)\n",
    "    my_producer.send('topic2', value = my_data)  \n",
    "    sleep(5)  "
   ]
  },
  {
   "cell_type": "code",
   "execution_count": null,
   "id": "f851d68e",
   "metadata": {},
   "outputs": [],
   "source": []
  }
 ],
 "metadata": {
  "kernelspec": {
   "display_name": "Python 3 (ipykernel)",
   "language": "python",
   "name": "python3"
  },
  "language_info": {
   "codemirror_mode": {
    "name": "ipython",
    "version": 3
   },
   "file_extension": ".py",
   "mimetype": "text/x-python",
   "name": "python",
   "nbconvert_exporter": "python",
   "pygments_lexer": "ipython3",
   "version": "3.11.5"
  }
 },
 "nbformat": 4,
 "nbformat_minor": 5
}
