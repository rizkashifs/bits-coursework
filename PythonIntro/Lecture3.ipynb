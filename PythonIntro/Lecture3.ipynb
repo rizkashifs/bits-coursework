{
 "cells": [
  {
   "cell_type": "markdown",
   "id": "b5eac44e",
   "metadata": {},
   "source": [
    "# Chained if else with exception handling\n",
    "# While loops"
   ]
  },
  {
   "cell_type": "code",
   "execution_count": 2,
   "id": "c19166da",
   "metadata": {},
   "outputs": [
    {
     "name": "stdout",
     "output_type": "stream",
     "text": [
      "Enter: \n",
      "df\n",
      "Seems like not an integer entered! invalid literal for int() with base 10: 'df'\n",
      "Enter: \n",
      "23\n",
      "Number1 is more than 5 : 23\n",
      "Enter: \n",
      "4\n",
      "Number1 is less than 5 : 4\n"
     ]
    }
   ],
   "source": [
    "i=0\n",
    "while (i <3):\n",
    "    try:\n",
    "        number1 = int(input(\"Enter: \\n\"))\n",
    "        if number1 < 5:\n",
    "            print (f'Number1 is less than 5 : {number1}')\n",
    "        elif number1 == 5:\n",
    "            print (f'Number1 is equal than 5 : {number1}')\n",
    "        else:\n",
    "            print (f'Number1 is more than 5 : {number1}')\n",
    "    except Exception as e:\n",
    "        print (\"Seems like not an integer entered!\", e)\n",
    "    i += 1"
   ]
  },
  {
   "cell_type": "code",
   "execution_count": 7,
   "id": "97031335",
   "metadata": {},
   "outputs": [
    {
     "name": "stdout",
     "output_type": "stream",
     "text": [
      "0\n",
      "1\n",
      "2\n",
      "3\n",
      "4\n",
      "Done\n"
     ]
    }
   ],
   "source": [
    "i = 0\n",
    "while i<5:\n",
    "    print(i)\n",
    "    i += 1\n",
    "print('Done')"
   ]
  },
  {
   "cell_type": "markdown",
   "id": "b11ef705",
   "metadata": {},
   "source": [
    "# While loops, break/continue "
   ]
  },
  {
   "cell_type": "code",
   "execution_count": 13,
   "id": "64408398",
   "metadata": {},
   "outputs": [
    {
     "name": "stdout",
     "output_type": "stream",
     "text": [
      "Total: 180\n"
     ]
    }
   ],
   "source": [
    "marks = [35,45,34,12,54]\n",
    "total = 0\n",
    "index = 0\n",
    "\n",
    "while index<len(marks):\n",
    "    total = total + marks[index]\n",
    "    index += 1\n",
    "\n",
    "print ('Total:' , total)\n"
   ]
  },
  {
   "cell_type": "code",
   "execution_count": 29,
   "id": "455eba1c",
   "metadata": {},
   "outputs": [
    {
     "name": "stdout",
     "output_type": "stream",
     "text": [
      "i:  1\n",
      "i:  2\n",
      "i:  3\n",
      "i:  4\n",
      "Its a 5! i:  5\n",
      "i:  6\n",
      "i:  7\n",
      "i:  8\n",
      "i:  9\n",
      "i:  10\n",
      "Done!\n"
     ]
    }
   ],
   "source": [
    "i = 0\n",
    "while i<10:\n",
    "    i += 1\n",
    "    if i ==5:\n",
    "        #break\n",
    "        print ('Its a 5!',\"i: \", i)\n",
    "        continue\n",
    "        \n",
    "    print (\"i: \",i)\n",
    "print('Done!')"
   ]
  },
  {
   "cell_type": "code",
   "execution_count": 32,
   "id": "009c396c",
   "metadata": {},
   "outputs": [
    {
     "name": "stdout",
     "output_type": "stream",
     "text": [
      "10\n",
      "20\n",
      "sds\n",
      "[1, 2, 3]\n"
     ]
    }
   ],
   "source": [
    "list = [10,20,\"sds\",[1,2,3]]\n",
    "\n",
    "for i in list:\n",
    "    print (i)"
   ]
  },
  {
   "cell_type": "code",
   "execution_count": 31,
   "id": "1ee019a4",
   "metadata": {},
   "outputs": [
    {
     "name": "stdout",
     "output_type": "stream",
     "text": [
      "5\n",
      "7\n",
      "9\n"
     ]
    }
   ],
   "source": [
    "for i in range(5,10,2):\n",
    "    print (i)"
   ]
  },
  {
   "cell_type": "markdown",
   "id": "d08265f8",
   "metadata": {},
   "source": [
    "<b> Find minimum number <b>"
   ]
  },
  {
   "cell_type": "code",
   "execution_count": 43,
   "id": "a42a126e",
   "metadata": {},
   "outputs": [],
   "source": [
    "def find_min(numbers):\n",
    "    min_value = numbers[0]\n",
    "    \n",
    "    for num in numbers:\n",
    "        if num < min_value:\n",
    "            min_value = num\n",
    "    \n",
    "    return min_value"
   ]
  },
  {
   "cell_type": "code",
   "execution_count": 46,
   "id": "5d57824d",
   "metadata": {},
   "outputs": [
    {
     "data": {
      "text/plain": [
       "2"
      ]
     },
     "execution_count": 46,
     "metadata": {},
     "output_type": "execute_result"
    }
   ],
   "source": [
    "num_list = [5,2,3,4]\n",
    "find_min(num_list)"
   ]
  },
  {
   "cell_type": "markdown",
   "id": "548314eb",
   "metadata": {},
   "source": [
    "<Writing & Creating Files>"
   ]
  },
  {
   "cell_type": "code",
   "execution_count": 51,
   "id": "a793c0c3",
   "metadata": {},
   "outputs": [],
   "source": [
    "f = open('test.txt', \"w\") \n",
    "print (\"hello!\" , file = f)\n",
    "f.close()\n"
   ]
  },
  {
   "cell_type": "code",
   "execution_count": null,
   "id": "2e45111c",
   "metadata": {},
   "outputs": [],
   "source": [
    "import panda"
   ]
  }
 ],
 "metadata": {
  "kernelspec": {
   "display_name": "Python 3",
   "language": "python",
   "name": "python3"
  },
  "language_info": {
   "codemirror_mode": {
    "name": "ipython",
    "version": 3
   },
   "file_extension": ".py",
   "mimetype": "text/x-python",
   "name": "python",
   "nbconvert_exporter": "python",
   "pygments_lexer": "ipython3",
   "version": "3.8.8"
  }
 },
 "nbformat": 4,
 "nbformat_minor": 5
}
