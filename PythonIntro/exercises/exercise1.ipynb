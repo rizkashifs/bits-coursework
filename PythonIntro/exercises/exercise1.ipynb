{
 "cells": [
  {
   "attachments": {},
   "cell_type": "markdown",
   "metadata": {},
   "source": [
    "1. Given a number, find the sum of its digits. Take the number as\n",
    "an input from the user"
   ]
  },
  {
   "cell_type": "code",
   "execution_count": 19,
   "metadata": {},
   "outputs": [
    {
     "data": {
      "text/plain": [
       "10"
      ]
     },
     "execution_count": 19,
     "metadata": {},
     "output_type": "execute_result"
    }
   ],
   "source": [
    "def numsum(number):\n",
    "    number = str(number)\n",
    "    temp = 0\n",
    "    for i in number:\n",
    "        temp = temp + int(i)\n",
    "    \n",
    "    return temp\n",
    "\n",
    "numsum(127)"
   ]
  },
  {
   "attachments": {},
   "cell_type": "markdown",
   "metadata": {},
   "source": [
    "2.  Given  a  number,  check  whether  the  given  number  is  an\n",
    "Armstrong number or not. A positive integer is called an\n",
    "Armstrong number of order n if:\n",
    "abcd... = an + bn + cn + dn + ...\n",
    "Example: 153 = 1*1*1 + 5*5*5 + 3*3*3\n",
    "153 is an Armstrong number of order 3.\n",
    "Inputs from the user will be number and order n.\n"
   ]
  },
  {
   "cell_type": "code",
   "execution_count": 98,
   "metadata": {},
   "outputs": [],
   "source": [
    "def armstrong():\n",
    "    print(\"Enter a number: \")\n",
    "    num = int(input())\n",
    "    print (num)\n",
    "\n",
    "    print(\"Enter an order: \")\n",
    "    order = int(input())\n",
    "    print(order)\n",
    "\n",
    "    num_str = str(num)\n",
    "    counter = 0\n",
    "\n",
    "    for i in range(order):\n",
    "        #print ('num_str', num_str[i])\n",
    "        #print (\"i : \", i)\n",
    "        temp = int(num_str[i])**order\n",
    "        #print (\"temp\", temp)\n",
    "        counter = counter + int(temp)\n",
    "        #print (\"counter\", counter)\n",
    "\n",
    "    if counter == num: \n",
    "        print(\"True- this is an Armstrong number\")\n",
    "    else:\n",
    "        print (\"False - this is not an Armstrong number\")\n",
    "    "
   ]
  },
  {
   "cell_type": "code",
   "execution_count": 101,
   "metadata": {},
   "outputs": [
    {
     "name": "stdout",
     "output_type": "stream",
     "text": [
      "Enter a number: \n",
      "407\n",
      "Enter an order: \n",
      "3\n",
      "True- this is an Armstrong number\n"
     ]
    }
   ],
   "source": [
    "armstrong()"
   ]
  },
  {
   "cell_type": "markdown",
   "metadata": {},
   "source": [
    "3.  Given  a  string,  write  a  python  function  to  check  if  it  is\n",
    "palindrome or not. A string is said to be palindrome if the reverse\n",
    "of the string is the same as string. For example, “malayalam” is a\n",
    "palindrome, but “music” is not a palindrome.\n",
    "\n"
   ]
  },
  {
   "cell_type": "code",
   "execution_count": 35,
   "metadata": {},
   "outputs": [
    {
     "name": "stdout",
     "output_type": "stream",
     "text": [
      "malayalam\n",
      "malayalam\n"
     ]
    },
    {
     "data": {
      "text/plain": [
       "True"
      ]
     },
     "execution_count": 35,
     "metadata": {},
     "output_type": "execute_result"
    }
   ],
   "source": [
    "word = 'malayalam'\n",
    "\n",
    "print (word[::-1])\n",
    "print (word)\n",
    "\n",
    "word == word[::-1]"
   ]
  },
  {
   "cell_type": "code",
   "execution_count": 55,
   "metadata": {},
   "outputs": [
    {
     "name": "stdout",
     "output_type": "stream",
     "text": [
      "mam\n",
      "True\n"
     ]
    }
   ],
   "source": [
    "word = input(\"Enter string: \")\n",
    "\n",
    "str = \"\"\n",
    "for i in reversed(word):\n",
    "    str = str + i \n",
    "\n",
    "print (str)\n",
    "\n",
    "if (str == word):\n",
    "    print(\"True\")\n",
    "else:\n",
    "    print(\"False\")"
   ]
  },
  {
   "attachments": {},
   "cell_type": "markdown",
   "metadata": {},
   "source": [
    "4. Given an array which may contain duplicates, print all elements\n",
    "and their frequencies.\n"
   ]
  },
  {
   "cell_type": "code",
   "execution_count": 25,
   "metadata": {},
   "outputs": [
    {
     "name": "stdout",
     "output_type": "stream",
     "text": [
      "Array Element:  1\n",
      "Count:  1\n",
      "Array Element:  2\n",
      "Count:  3\n",
      "Array Element:  3\n",
      "Count:  1\n",
      "Array Element:  4\n",
      "Count:  1\n",
      "Array Element:  5\n",
      "Count:  1\n"
     ]
    }
   ],
   "source": [
    "arr = [1, 2,2, 3, 4, 5,2]\n",
    "temp = []\n",
    "\n",
    "for i in arr:\n",
    "    if (i in temp):\n",
    "        continue\n",
    "    else:\n",
    "        temp.append(i)\n",
    "        print (\"Array Element: \", i)\n",
    "        print (\"Count: \" , arr.count(i))\n",
    "        "
   ]
  },
  {
   "attachments": {},
   "cell_type": "markdown",
   "metadata": {},
   "source": [
    "5. Given a number n, write a function to print all prime factors of\n",
    "n. For example, if the input number is 12, then output should be\n",
    "“2 2 3”"
   ]
  },
  {
   "cell_type": "code",
   "execution_count": null,
   "metadata": {},
   "outputs": [],
   "source": [
    "numb = 16"
   ]
  },
  {
   "cell_type": "code",
   "execution_count": null,
   "metadata": {},
   "outputs": [],
   "source": []
  },
  {
   "cell_type": "code",
   "execution_count": null,
   "metadata": {},
   "outputs": [],
   "source": []
  },
  {
   "cell_type": "code",
   "execution_count": 15,
   "metadata": {},
   "outputs": [
    {
     "name": "stdout",
     "output_type": "stream",
     "text": [
      "Object `count()` not found.\n"
     ]
    }
   ],
   "source": []
  },
  {
   "cell_type": "code",
   "execution_count": null,
   "metadata": {},
   "outputs": [],
   "source": []
  },
  {
   "cell_type": "code",
   "execution_count": null,
   "metadata": {},
   "outputs": [],
   "source": []
  },
  {
   "cell_type": "code",
   "execution_count": null,
   "metadata": {},
   "outputs": [],
   "source": []
  },
  {
   "cell_type": "code",
   "execution_count": null,
   "metadata": {},
   "outputs": [],
   "source": []
  }
 ],
 "metadata": {
  "kernelspec": {
   "display_name": "Python 3.8.8 ('base')",
   "language": "python",
   "name": "python3"
  },
  "language_info": {
   "codemirror_mode": {
    "name": "ipython",
    "version": 3
   },
   "file_extension": ".py",
   "mimetype": "text/x-python",
   "name": "python",
   "nbconvert_exporter": "python",
   "pygments_lexer": "ipython3",
   "version": "3.9.16"
  },
  "orig_nbformat": 4,
  "vscode": {
   "interpreter": {
    "hash": "ad2bdc8ecc057115af97d19610ffacc2b4e99fae6737bb82f5d7fb13d2f2c186"
   }
  }
 },
 "nbformat": 4,
 "nbformat_minor": 2
}
