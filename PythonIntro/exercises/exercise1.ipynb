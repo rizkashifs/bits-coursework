{
 "cells": [
  {
   "attachments": {},
   "cell_type": "markdown",
   "metadata": {},
   "source": [
    "1. Given a number, find the sum of its digits. Take the number as\n",
    "an input from the user"
   ]
  },
  {
   "cell_type": "code",
   "execution_count": 19,
   "metadata": {},
   "outputs": [
    {
     "data": {
      "text/plain": [
       "10"
      ]
     },
     "execution_count": 19,
     "metadata": {},
     "output_type": "execute_result"
    }
   ],
   "source": [
    "def numsum(number):\n",
    "    number = str(number)\n",
    "    temp = 0\n",
    "    for i in number:\n",
    "        temp = temp + int(i)\n",
    "    \n",
    "    return temp\n",
    "\n",
    "numsum(127)"
   ]
  },
  {
   "attachments": {},
   "cell_type": "markdown",
   "metadata": {},
   "source": [
    "2.  Given  a  number,  check  whether  the  given  number  is  an\n",
    "Armstrong number or not. A positive integer is called an\n",
    "Armstrong number of order n if:\n",
    "abcd... = an + bn + cn + dn + ...\n",
    "Example: 153 = 1*1*1 + 5*5*5 + 3*3*3\n",
    "153 is an Armstrong number of order 3.\n",
    "Inputs from the user will be number and order n.\n"
   ]
  },
  {
   "cell_type": "code",
   "execution_count": 98,
   "metadata": {},
   "outputs": [],
   "source": [
    "def armstrong():\n",
    "    print(\"Enter a number: \")\n",
    "    num = int(input())\n",
    "    print (num)\n",
    "\n",
    "    print(\"Enter an order: \")\n",
    "    order = int(input())\n",
    "    print(order)\n",
    "\n",
    "    num_str = str(num)\n",
    "    counter = 0\n",
    "\n",
    "    for i in range(order):\n",
    "        #print ('num_str', num_str[i])\n",
    "        #print (\"i : \", i)\n",
    "        temp = int(num_str[i])**order\n",
    "        #print (\"temp\", temp)\n",
    "        counter = counter + int(temp)\n",
    "        #print (\"counter\", counter)\n",
    "\n",
    "    if counter == num: \n",
    "        print(\"True- this is an Armstrong number\")\n",
    "    else:\n",
    "        print (\"False - this is not an Armstrong number\")\n",
    "    "
   ]
  },
  {
   "cell_type": "code",
   "execution_count": 101,
   "metadata": {},
   "outputs": [
    {
     "name": "stdout",
     "output_type": "stream",
     "text": [
      "Enter a number: \n",
      "407\n",
      "Enter an order: \n",
      "3\n",
      "True- this is an Armstrong number\n"
     ]
    }
   ],
   "source": [
    "armstrong()"
   ]
  },
  {
   "cell_type": "code",
   "execution_count": null,
   "metadata": {},
   "outputs": [],
   "source": []
  }
 ],
 "metadata": {
  "kernelspec": {
   "display_name": "Python 3",
   "language": "python",
   "name": "python3"
  },
  "language_info": {
   "codemirror_mode": {
    "name": "ipython",
    "version": 3
   },
   "file_extension": ".py",
   "mimetype": "text/x-python",
   "name": "python",
   "nbconvert_exporter": "python",
   "pygments_lexer": "ipython3",
   "version": "3.9.16"
  },
  "orig_nbformat": 4
 },
 "nbformat": 4,
 "nbformat_minor": 2
}
