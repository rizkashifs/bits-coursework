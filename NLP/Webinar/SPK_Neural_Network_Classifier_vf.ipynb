{
  "nbformat": 4,
  "nbformat_minor": 0,
  "metadata": {
    "colab": {
      "provenance": []
    },
    "kernelspec": {
      "name": "python3",
      "display_name": "Python 3"
    },
    "language_info": {
      "name": "python"
    }
  },
  "cells": [
    {
      "cell_type": "code",
      "execution_count": 1,
      "metadata": {
        "id": "fQjE5k0UVQ-e"
      },
      "outputs": [],
      "source": [
        "# use natural language toolkit\n",
        "import nltk\n",
        "from nltk.stem.lancaster import LancasterStemmer\n",
        "import os\n",
        "import json\n",
        "import datetime\n",
        "stemmer = LancasterStemmer()"
      ]
    },
    {
      "cell_type": "code",
      "source": [
        "# 3 classes of training data\n",
        "training_data = []\n",
        "training_data.append({\"class\":\"greeting\", \"sentence\":\"how are you?\"})\n",
        "training_data.append({\"class\":\"greeting\", \"sentence\":\"how is your day?\"})\n",
        "training_data.append({\"class\":\"greeting\", \"sentence\":\"good day\"})\n",
        "training_data.append({\"class\":\"greeting\", \"sentence\":\"how is it going today?\"})\n",
        "\n",
        "training_data.append({\"class\":\"goodbye\", \"sentence\":\"have a nice day\"})\n",
        "training_data.append({\"class\":\"goodbye\", \"sentence\":\"see you later\"})\n",
        "training_data.append({\"class\":\"goodbye\", \"sentence\":\"have a nice day\"})\n",
        "training_data.append({\"class\":\"goodbye\", \"sentence\":\"talk to you soon\"})\n",
        "\n",
        "training_data.append({\"class\":\"sandwich\", \"sentence\":\"make me a sandwich\"})\n",
        "training_data.append({\"class\":\"sandwich\", \"sentence\":\"can you make a sandwich?\"})\n",
        "training_data.append({\"class\":\"sandwich\", \"sentence\":\"having a sandwich today?\"})\n",
        "training_data.append({\"class\":\"sandwich\", \"sentence\":\"what's for lunch?\"})\n",
        "print (\"%s sentences in training data\" % len(training_data))"
      ],
      "metadata": {
        "colab": {
          "base_uri": "https://localhost:8080/"
        },
        "id": "EtY09dsQVr3W",
        "outputId": "548f4cd5-6679-4741-d7f8-2ec7fcfd2ca2"
      },
      "execution_count": 2,
      "outputs": [
        {
          "output_type": "stream",
          "name": "stdout",
          "text": [
            "12 sentences in training data\n"
          ]
        }
      ]
    },
    {
      "cell_type": "code",
      "source": [
        "  import nltk\n",
        "  nltk.download('punkt')"
      ],
      "metadata": {
        "colab": {
          "base_uri": "https://localhost:8080/"
        },
        "id": "-E8yP4k_V9IC",
        "outputId": "838577c1-1f1d-45ce-9214-a8d6902e0775"
      },
      "execution_count": 4,
      "outputs": [
        {
          "output_type": "stream",
          "name": "stderr",
          "text": [
            "[nltk_data] Downloading package punkt to /root/nltk_data...\n",
            "[nltk_data]   Unzipping tokenizers/punkt.zip.\n"
          ]
        },
        {
          "output_type": "execute_result",
          "data": {
            "text/plain": [
              "True"
            ]
          },
          "metadata": {},
          "execution_count": 4
        }
      ]
    },
    {
      "cell_type": "code",
      "source": [
        "words = []\n",
        "classes = []\n",
        "documents = []\n",
        "ignore_words = ['?']\n",
        "# loop through each sentence in our training data\n",
        "for pattern in training_data:\n",
        "    # tokenize each word in the sentence\n",
        "    w = nltk.word_tokenize(pattern['sentence'])\n",
        "    # add to our words list\n",
        "    words.extend(w)\n",
        "    # add to documents in our corpus\n",
        "    documents.append((w, pattern['class']))\n",
        "    # add to our classes list\n",
        "    if pattern['class'] not in classes:\n",
        "        classes.append(pattern['class'])\n",
        "\n",
        "# stem and lower each word and remove duplicates\n",
        "words = [stemmer.stem(w.lower()) for w in words if w not in ignore_words]\n",
        "words = list(set(words))\n",
        "\n",
        "# remove duplicates\n",
        "classes = list(set(classes))\n",
        "\n",
        "print (len(documents), \"documents\")\n",
        "print (len(classes), \"classes\", classes)\n",
        "print (len(words), \"unique stemmed words\", words)"
      ],
      "metadata": {
        "colab": {
          "base_uri": "https://localhost:8080/"
        },
        "id": "GoNADViFVwsX",
        "outputId": "677434e9-c939-4fab-aa2b-bf6670f35280"
      },
      "execution_count": 5,
      "outputs": [
        {
          "output_type": "stream",
          "name": "stdout",
          "text": [
            "12 documents\n",
            "3 classes ['sandwich', 'greeting', 'goodbye']\n",
            "26 unique stemmed words ['yo', 'me', \"'s\", 'sandwich', 'talk', 'day', 'good', 'nic', 'it', 'soon', 'for', 'you', 'lunch', 'lat', 'what', 'a', 'hav', 'going', 'mak', 'is', 'ar', 'today', 'see', 'can', 'to', 'how']\n"
          ]
        }
      ]
    },
    {
      "cell_type": "code",
      "source": [
        "# create our training data\n",
        "training = []\n",
        "output = []\n",
        "# create an empty array for our output\n",
        "output_empty = [0] * len(classes)\n",
        "\n",
        "# training set, bag of words for each sentence\n",
        "for doc in documents:\n",
        "    # initialize our bag of words\n",
        "    bag = []\n",
        "    # list of tokenized words for the pattern\n",
        "    pattern_words = doc[0]\n",
        "    # stem each word\n",
        "    pattern_words = [stemmer.stem(word.lower()) for word in pattern_words]\n",
        "    # create our bag of words array\n",
        "    for w in words:\n",
        "        bag.append(1) if w in pattern_words else bag.append(0)\n",
        "\n",
        "    training.append(bag)\n",
        "    # output is a '0' for each tag and '1' for current tag\n",
        "    output_row = list(output_empty)\n",
        "    output_row[classes.index(doc[1])] = 1\n",
        "    output.append(output_row)\n",
        "\n",
        "print (\"# words\", len(words))\n",
        "print (\"# classes\", len(classes))"
      ],
      "metadata": {
        "colab": {
          "base_uri": "https://localhost:8080/"
        },
        "id": "MeZNsEHSWFX7",
        "outputId": "3f778fca-99ce-4eb0-ddae-5eb3d7115e38"
      },
      "execution_count": 6,
      "outputs": [
        {
          "output_type": "stream",
          "name": "stdout",
          "text": [
            "# words 26\n",
            "# classes 3\n"
          ]
        }
      ]
    },
    {
      "cell_type": "code",
      "source": [
        "# sample training/output\n",
        "i = 0\n",
        "w = documents[i][0]\n",
        "print ([stemmer.stem(word.lower()) for word in w])\n",
        "print (training[i])\n",
        "print (output[i])"
      ],
      "metadata": {
        "colab": {
          "base_uri": "https://localhost:8080/"
        },
        "id": "gw9YAIf-WJ5Y",
        "outputId": "a1af41ff-3a55-4ac4-d3af-b591b1b0d45b"
      },
      "execution_count": 7,
      "outputs": [
        {
          "output_type": "stream",
          "name": "stdout",
          "text": [
            "['how', 'ar', 'you', '?']\n",
            "[0, 0, 0, 0, 0, 0, 0, 0, 0, 0, 0, 1, 0, 0, 0, 0, 0, 0, 0, 0, 1, 0, 0, 0, 0, 1]\n",
            "[0, 1, 0]\n"
          ]
        }
      ]
    },
    {
      "cell_type": "code",
      "source": [
        "import numpy as np\n",
        "import time\n",
        "\n",
        "# compute sigmoid nonlinearity\n",
        "def sigmoid(x):\n",
        "    output = 1/(1+np.exp(-x))\n",
        "    return output\n",
        "\n",
        "# convert output of sigmoid function to its derivative\n",
        "def sigmoid_output_to_derivative(output):\n",
        "    return output*(1-output)\n",
        "\n",
        "def clean_up_sentence(sentence):\n",
        "    # tokenize the pattern\n",
        "    sentence_words = nltk.word_tokenize(sentence)\n",
        "    # stem each word\n",
        "    sentence_words = [stemmer.stem(word.lower()) for word in sentence_words]\n",
        "    return sentence_words\n",
        "\n",
        "# return bag of words array: 0 or 1 for each word in the bag that exists in the sentence\n",
        "def bow(sentence, words, show_details=False):\n",
        "    # tokenize the pattern\n",
        "    sentence_words = clean_up_sentence(sentence)\n",
        "    # bag of words\n",
        "    bag = [0]*len(words)\n",
        "    for s in sentence_words:\n",
        "        for i,w in enumerate(words):\n",
        "            if w == s:\n",
        "                bag[i] = 1\n",
        "                if show_details:\n",
        "                    print (\"found in bag: %s\" % w)\n",
        "\n",
        "    return(np.array(bag))\n",
        "\n",
        "def think(sentence, show_details=False):\n",
        "    x = bow(sentence.lower(), words, show_details)\n",
        "    if show_details:\n",
        "        print (\"sentence:\", sentence, \"\\n bow:\", x)\n",
        "    # input layer is our bag of words\n",
        "    l0 = x\n",
        "    # matrix multiplication of input and hidden layer\n",
        "    l1 = sigmoid(np.dot(l0, synapse_0))\n",
        "    # output layer\n",
        "    l2 = sigmoid(np.dot(l1, synapse_1))\n",
        "    return l2"
      ],
      "metadata": {
        "id": "R38KIlctWSWb"
      },
      "execution_count": 8,
      "outputs": []
    },
    {
      "cell_type": "code",
      "source": [
        "# ANN and Gradient Descent code from https://iamtrask.github.io//2015/07/27/python-network-part2/\n",
        "def train(X, y, hidden_neurons=10, alpha=1, epochs=50000, dropout=False, dropout_percent=0.5):\n",
        "\n",
        "    print (\"Training with %s neurons, alpha:%s, dropout:%s %s\" % (hidden_neurons, str(alpha), dropout, dropout_percent if dropout else '') )\n",
        "    print (\"Input matrix: %sx%s    Output matrix: %sx%s\" % (len(X),len(X[0]),1, len(classes)) )\n",
        "    np.random.seed(1)\n",
        "\n",
        "    last_mean_error = 1\n",
        "    # randomly initialize our weights with mean 0\n",
        "    synapse_0 = 2*np.random.random((len(X[0]), hidden_neurons)) - 1\n",
        "    synapse_1 = 2*np.random.random((hidden_neurons, len(classes))) - 1\n",
        "\n",
        "    prev_synapse_0_weight_update = np.zeros_like(synapse_0)\n",
        "    prev_synapse_1_weight_update = np.zeros_like(synapse_1)\n",
        "\n",
        "    synapse_0_direction_count = np.zeros_like(synapse_0)\n",
        "    synapse_1_direction_count = np.zeros_like(synapse_1)\n",
        "\n",
        "    for j in iter(range(epochs+1)):\n",
        "\n",
        "        # Feed forward through layers 0, 1, and 2\n",
        "        layer_0 = X\n",
        "        layer_1 = sigmoid(np.dot(layer_0, synapse_0))\n",
        "\n",
        "        if(dropout):\n",
        "            layer_1 *= np.random.binomial([np.ones((len(X),hidden_neurons))],1-dropout_percent)[0] * (1.0/(1-dropout_percent))\n",
        "\n",
        "        layer_2 = sigmoid(np.dot(layer_1, synapse_1))\n",
        "\n",
        "        # how much did we miss the target value?\n",
        "        layer_2_error = y - layer_2\n",
        "\n",
        "        if (j% 10000) == 0 and j > 5000:\n",
        "            # if this 10k iteration's error is greater than the last iteration, break out\n",
        "            if np.mean(np.abs(layer_2_error)) < last_mean_error:\n",
        "                print (\"delta after \"+str(j)+\" iterations:\" + str(np.mean(np.abs(layer_2_error))) )\n",
        "                last_mean_error = np.mean(np.abs(layer_2_error))\n",
        "            else:\n",
        "                print (\"break:\", np.mean(np.abs(layer_2_error)), \">\", last_mean_error )\n",
        "                break\n",
        "\n",
        "        # in what direction is the target value?\n",
        "        # were we really sure? if so, don't change too much.\n",
        "        layer_2_delta = layer_2_error * sigmoid_output_to_derivative(layer_2)\n",
        "\n",
        "        # how much did each l1 value contribute to the l2 error (according to the weights)?\n",
        "        layer_1_error = layer_2_delta.dot(synapse_1.T)\n",
        "\n",
        "        # in what direction is the target l1?\n",
        "        # were we really sure? if so, don't change too much.\n",
        "        layer_1_delta = layer_1_error * sigmoid_output_to_derivative(layer_1)\n",
        "\n",
        "        synapse_1_weight_update = (layer_1.T.dot(layer_2_delta))\n",
        "        synapse_0_weight_update = (layer_0.T.dot(layer_1_delta))\n",
        "\n",
        "        if(j > 0):\n",
        "            synapse_0_direction_count += np.abs(((synapse_0_weight_update > 0)+0) - ((prev_synapse_0_weight_update > 0) + 0))\n",
        "            synapse_1_direction_count += np.abs(((synapse_1_weight_update > 0)+0) - ((prev_synapse_1_weight_update > 0) + 0))\n",
        "\n",
        "        synapse_1 += alpha * synapse_1_weight_update\n",
        "        synapse_0 += alpha * synapse_0_weight_update\n",
        "\n",
        "        prev_synapse_0_weight_update = synapse_0_weight_update\n",
        "        prev_synapse_1_weight_update = synapse_1_weight_update\n",
        "\n",
        "    now = datetime.datetime.now()\n",
        "\n",
        "    # persist synapses\n",
        "    synapse = {'synapse0': synapse_0.tolist(), 'synapse1': synapse_1.tolist(),\n",
        "               'datetime': now.strftime(\"%Y-%m-%d %H:%M\"),\n",
        "               'words': words,\n",
        "               'classes': classes\n",
        "              }\n",
        "    synapse_file = \"synapses.json\"\n",
        "\n",
        "    with open(synapse_file, 'w') as outfile:\n",
        "        json.dump(synapse, outfile, indent=4, sort_keys=True)\n",
        "    print (\"saved synapses to:\", synapse_file)"
      ],
      "metadata": {
        "id": "BrU83djfWUFa"
      },
      "execution_count": 9,
      "outputs": []
    },
    {
      "cell_type": "code",
      "source": [
        "X = np.array(training)\n",
        "y = np.array(output)\n",
        "\n",
        "start_time = time.time()\n",
        "\n",
        "train(X, y, hidden_neurons=20, alpha=0.1, epochs=100000, dropout=False, dropout_percent=0.2)\n",
        "\n",
        "elapsed_time = time.time() - start_time\n",
        "print (\"processing time:\", elapsed_time, \"seconds\")"
      ],
      "metadata": {
        "colab": {
          "base_uri": "https://localhost:8080/"
        },
        "id": "lJzoH9ukWdTC",
        "outputId": "2ba28a1a-7a3a-40b4-ec71-c807d35abcce"
      },
      "execution_count": 10,
      "outputs": [
        {
          "output_type": "stream",
          "name": "stdout",
          "text": [
            "Training with 20 neurons, alpha:0.1, dropout:False \n",
            "Input matrix: 12x26    Output matrix: 1x3\n",
            "delta after 10000 iterations:0.0067415563899088605\n",
            "delta after 20000 iterations:0.004612601720746562\n",
            "delta after 30000 iterations:0.00370348870460273\n",
            "delta after 40000 iterations:0.0031721886377543114\n",
            "delta after 50000 iterations:0.002814424114858507\n",
            "delta after 60000 iterations:0.002552951855962686\n",
            "delta after 70000 iterations:0.0023513317443331757\n",
            "delta after 80000 iterations:0.002189861438219565\n",
            "delta after 90000 iterations:0.002056845359651771\n",
            "delta after 100000 iterations:0.0019448500645324325\n",
            "saved synapses to: synapses.json\n",
            "processing time: 7.803227663040161 seconds\n"
          ]
        }
      ]
    },
    {
      "cell_type": "code",
      "source": [
        "# probability threshold\n",
        "ERROR_THRESHOLD = 0.2\n",
        "# load our calculated synapse values\n",
        "synapse_file = 'synapses.json'\n",
        "with open(synapse_file) as data_file:\n",
        "    synapse = json.load(data_file)\n",
        "    synapse_0 = np.asarray(synapse['synapse0'])\n",
        "    synapse_1 = np.asarray(synapse['synapse1'])\n",
        "\n",
        "def classify(sentence, show_details=False):\n",
        "    results = think(sentence, show_details)\n",
        "\n",
        "    results = [[i,r] for i,r in enumerate(results) if r>ERROR_THRESHOLD ]\n",
        "    results.sort(key=lambda x: x[1], reverse=True)\n",
        "    return_results =[[classes[r[0]],r[1]] for r in results]\n",
        "    print (\"%s \\n classification: %s\" % (sentence, return_results))\n",
        "    return return_results\n",
        "\n",
        "classify(\"sudo make me a sandwich\")\n",
        "classify(\"how are you today?\")\n",
        "classify(\"talk to you tomorrow\")\n",
        "classify(\"who are you?\")\n",
        "classify(\"make me some lunch\")\n",
        "print ()\n",
        "classify(\"how was your lunch?\", show_details=True)"
      ],
      "metadata": {
        "colab": {
          "base_uri": "https://localhost:8080/"
        },
        "id": "HRSD6MxvWkM0",
        "outputId": "b1a81c7f-f157-400f-fcc1-171b520b12ce"
      },
      "execution_count": 11,
      "outputs": [
        {
          "output_type": "stream",
          "name": "stdout",
          "text": [
            "sudo make me a sandwich \n",
            " classification: [['sandwich', 0.9987245964183178]]\n",
            "how are you today? \n",
            " classification: [['greeting', 0.9984879577845833]]\n",
            "talk to you tomorrow \n",
            " classification: [['goodbye', 0.9664760835075359]]\n",
            "who are you? \n",
            " classification: [['greeting', 0.8410553830416628]]\n",
            "make me some lunch \n",
            " classification: [['sandwich', 0.9743284377711482]]\n",
            "\n",
            "found in bag: how\n",
            "found in bag: yo\n",
            "found in bag: lunch\n",
            "sentence: how was your lunch? \n",
            " bow: [1 0 0 0 0 0 0 0 0 0 0 0 1 0 0 0 0 0 0 0 0 0 0 0 0 1]\n",
            "how was your lunch? \n",
            " classification: [['greeting', 0.9057378664865204], ['sandwich', 0.2357740261296192]]\n"
          ]
        },
        {
          "output_type": "execute_result",
          "data": {
            "text/plain": [
              "[['greeting', 0.9057378664865204], ['sandwich', 0.2357740261296192]]"
            ]
          },
          "metadata": {},
          "execution_count": 11
        }
      ]
    },
    {
      "cell_type": "code",
      "source": [],
      "metadata": {
        "id": "YoCHYQsOWtiP"
      },
      "execution_count": null,
      "outputs": []
    }
  ]
}